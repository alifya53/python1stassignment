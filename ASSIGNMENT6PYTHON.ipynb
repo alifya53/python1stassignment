{
 "cells": [
  {
   "cell_type": "code",
   "execution_count": 1,
   "metadata": {},
   "outputs": [
    {
     "name": "stdout",
     "output_type": "stream",
     "text": [
      "Car Details\n",
      "\n",
      "Owner and car model\n",
      "NAME:John\n",
      "MODEL:Ferrari\n",
      "\n",
      "Car Specs and Info\n",
      "COLOR:Red \n",
      "ENGINE:1800cc\n",
      "ORIGIN:Made in Japan\n"
     ]
    }
   ],
   "source": [
    "class Car:\n",
    "  def __init__(self, name, model,color,enginecc,origin):\n",
    "        self.name = name\n",
    "        self.model = model\n",
    "        self.color = color\n",
    "        self.enginecc = enginecc\n",
    "        self.origin = origin\n",
    "\n",
    "  def myfunc(self):\n",
    "        print(\"Car Details\\n\" )\n",
    "        \n",
    "  def myfunc2(self):\n",
    "        print(\"Owner and car model\\n\" + self.name+ self.model)      \n",
    "  def myfunc3(self):\n",
    "        print(\"Car Specs and Info\\n\"+self.color+ self.enginecc +self.origin)\n",
    "c1 = Car(\"John\\n\", \"Ferrari\\n\",\"red\\n\",\"1800cc\\n\",\"Made in Japan\")\n",
    "c1.myfunc()\n",
    "c2 = Car(\"NAME:John\\n\", \"MODEL:Ferrari\\n\",\"red\\n\",\"1800cc\\n\",\"Made in Japan\")\n",
    "c2.myfunc2()\n",
    "c3 = Car(\"John\\n\", \"Ferrari\\n\",\"COLOR:Red \\n\",\"ENGINE:1800cc\\n\",\"ORIGIN:Made in Japan\")\n",
    "c3.myfunc3()\n"
   ]
  },
  {
   "cell_type": "code",
   "execution_count": null,
   "metadata": {},
   "outputs": [],
   "source": []
  }
 ],
 "metadata": {
  "kernelspec": {
   "display_name": "Python 3",
   "language": "python",
   "name": "python3"
  },
  "language_info": {
   "codemirror_mode": {
    "name": "ipython",
    "version": 3
   },
   "file_extension": ".py",
   "mimetype": "text/x-python",
   "name": "python",
   "nbconvert_exporter": "python",
   "pygments_lexer": "ipython3",
   "version": "3.7.4"
  }
 },
 "nbformat": 4,
 "nbformat_minor": 2
}
