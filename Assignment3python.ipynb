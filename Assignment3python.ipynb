{
 "cells": [
  {
   "cell_type": "code",
   "execution_count": 7,
   "metadata": {},
   "outputs": [
    {
     "name": "stdout",
     "output_type": "stream",
     "text": [
      "Enter first value2\n",
      "Enter second value2\n",
      "Enter operator^\n",
      "4 Answer\n"
     ]
    }
   ],
   "source": [
    "val1 = input ('Enter first value')\n",
    "val2 = input ('Enter second value')\n",
    "operator = input('Enter operator')\n",
    "val1 = int(val1)\n",
    "val2 = int(val2)\n",
    "if operator == '+':\n",
    "    result = val1 + val2\n",
    "    print(result,'Answer')\n",
    "elif operator == '-':\n",
    "    result = val1 - val2\n",
    "    print(result,'Answer')\n",
    "elif operator == '*':\n",
    "    result = val1 * val2\n",
    "    print(result,'Answer')\n",
    "elif operator == '/':\n",
    "    result = val1 / val2\n",
    "    print(result,'Answer')\n",
    "elif operator == '^':\n",
    "    result = val1 ** val2\n",
    "    print(result,'Answer')\n",
    "else:\n",
    "    print('Enter correct operator')"
   ]
  },
  {
   "cell_type": "code",
   "execution_count": 21,
   "metadata": {},
   "outputs": [
    {
     "name": "stdout",
     "output_type": "stream",
     "text": [
      "[4, 'Alif', 'For', 'Cool']\n",
      "4 is the numeric value in list\n",
      "[4, 'Alif', 'For', 'Cool']\n",
      "4 is the numeric value in list\n",
      "[4, 'Alif', 'For', 'Cool']\n",
      "4 is the numeric value in list\n",
      "[4, 'Alif', 'For', 'Cool']\n",
      "4 is the numeric value in list\n"
     ]
    }
   ],
   "source": [
    "l = [4,'Alif', 'For', 'Cool'] \n",
    "for i in l:\n",
    "    print(l)\n",
    "   \n",
    "    print('4 is the numeric value in list')\n",
    "     "
   ]
  },
  {
   "cell_type": "code",
   "execution_count": 22,
   "metadata": {},
   "outputs": [
    {
     "name": "stdout",
     "output_type": "stream",
     "text": [
      "{0: 10, 1: 20}\n",
      "{0: 10, 1: 20, 2: 30}\n"
     ]
    }
   ],
   "source": [
    "d = {0:10, 1:20}\n",
    "print(d)\n",
    "d.update({2:30})\n",
    "print(d)"
   ]
  },
  {
   "cell_type": "code",
   "execution_count": 23,
   "metadata": {},
   "outputs": [
    {
     "name": "stdout",
     "output_type": "stream",
     "text": [
      "293\n"
     ]
    }
   ],
   "source": [
    "my_dict = {'data1':100,'data2':-54,'data3':247}\n",
    "print(sum(my_dict.values()))"
   ]
  },
  {
   "cell_type": "code",
   "execution_count": 30,
   "metadata": {},
   "outputs": [
    {
     "name": "stdout",
     "output_type": "stream",
     "text": [
      "[20, 30, -20, 60]\n"
     ]
    }
   ],
   "source": [
    "# Python program to print \n",
    "# duplicates from a list of integers \n",
    "def Repeat(x): \n",
    "\t_size = len(x) \n",
    "\trepeated = [] \n",
    "\tfor i in range(_size): \n",
    "\t\tk = i + 1\n",
    "\t\tfor j in range(k, _size): \n",
    "\t\t\tif x[i] == x[j] and x[i] not in repeated: \n",
    "\t\t\t\trepeated.append(x[i]) \n",
    "\treturn repeated \n",
    "\n",
    "\n",
    "list1 = [10, 20, 30, 20, 20, 30, 40, \n",
    "        50, -20, 60, 60, -20, -20] \n",
    "print (Repeat(list1)) \n"
   ]
  },
  {
   "cell_type": "code",
   "execution_count": 29,
   "metadata": {},
   "outputs": [
    {
     "name": "stdout",
     "output_type": "stream",
     "text": [
      "Key is present in the dictionary\n",
      "Key is not present in the dictionary\n"
     ]
    }
   ],
   "source": [
    "d = {1: 10, 2: 20, 3: 30, 4: 40, 5: 50, 6: 60}\n",
    "def is_key_present(x):\n",
    "  if x in d:\n",
    "      print('Key is present in the dictionary')\n",
    "  else:\n",
    "      print('Key is not present in the dictionary')\n",
    "is_key_present(5)\n",
    "is_key_present(9)"
   ]
  },
  {
   "cell_type": "code",
   "execution_count": null,
   "metadata": {},
   "outputs": [],
   "source": []
  },
  {
   "cell_type": "code",
   "execution_count": null,
   "metadata": {},
   "outputs": [],
   "source": []
  },
  {
   "cell_type": "code",
   "execution_count": null,
   "metadata": {},
   "outputs": [],
   "source": []
  }
 ],
 "metadata": {
  "kernelspec": {
   "display_name": "Python 3",
   "language": "python",
   "name": "python3"
  },
  "language_info": {
   "codemirror_mode": {
    "name": "ipython",
    "version": 3
   },
   "file_extension": ".py",
   "mimetype": "text/x-python",
   "name": "python",
   "nbconvert_exporter": "python",
   "pygments_lexer": "ipython3",
   "version": "3.7.4"
  }
 },
 "nbformat": 4,
 "nbformat_minor": 2
}
