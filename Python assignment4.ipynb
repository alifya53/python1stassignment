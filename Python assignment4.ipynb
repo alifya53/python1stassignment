{
 "cells": [
  {
   "cell_type": "code",
   "execution_count": 4,
   "metadata": {},
   "outputs": [
    {
     "name": "stdout",
     "output_type": "stream",
     "text": [
      "alifya\n",
      "hussain\n",
      "karachi\n",
      "28\n",
      "{'first_name': 'alifya', 'last_name': 'hussain', 'city': 'karachi', 'age': 28, 'qualification': 'BCS'}\n"
     ]
    }
   ],
   "source": [
    "person = {'first_name': 'alifya', 'last_name': 'hussain', 'city': 'karachi', 'age': 28}\n",
    "\n",
    "print(person['first_name'])\n",
    "print(person['last_name'])\n",
    "print(person['city'])\n",
    "print(person['age'])\n",
    "\n",
    "\n",
    "# Starting with an empty dictionary\n",
    "person = {}\n",
    "\n",
    "# Adding New Key-Value pairs\n",
    "person['first_name'] = 'alifya'\n",
    "person['last_name'] = 'hussain'\n",
    "person['city'] = 'karachi'\n",
    "person['age'] = 28\n",
    "person['qualification'] = 'BCS'\n",
    "\n",
    "print(person)\n",
    "# Modifying Values in a dictionary\n",
    "person['qualification'] = 'MCS' # modify color\n",
    "\n",
    "# Removing Key-Value pairs\n",
    "del person['qualification'] # remove key-value pair\n",
    "\n"
   ]
  },
  {
   "cell_type": "code",
   "execution_count": 5,
   "metadata": {},
   "outputs": [
    {
     "name": "stdout",
     "output_type": "stream",
     "text": [
      "\n",
      "Santiago is in Chile.\n",
      "  It has a population of about 6158080.\n",
      "  The Andes mountains are nearby.\n",
      "\n",
      "Talkeetna is in Alaska.\n",
      "  It has a population of about 876.\n",
      "  The Alaska Range mountains are nearby.\n",
      "\n",
      "Kathmandu is in Nepal.\n",
      "  It has a population of about 1003285.\n",
      "  The Himilaya mountains are nearby.\n"
     ]
    }
   ],
   "source": [
    "cities = {\n",
    "    'santiago': {\n",
    "        'country': 'chile',\n",
    "        'population': 6158080,\n",
    "        'nearby mountains': 'andes',\n",
    "        },\n",
    "    'talkeetna': {\n",
    "        'country': 'alaska',\n",
    "        'population': 876,\n",
    "        'nearby mountains': 'alaska range',\n",
    "        },\n",
    "    'kathmandu': {\n",
    "        'country': 'nepal',\n",
    "        'population': 1003285,\n",
    "        'nearby mountains': 'himilaya',\n",
    "        }\n",
    "    }\n",
    "\n",
    "for city, city_info in cities.items():\n",
    "    country = city_info['country'].title()\n",
    "    population = city_info['population']\n",
    "    mountains = city_info['nearby mountains'].title()\n",
    "\n",
    "    print(\"\\n\" + city.title() + \" is in \" + country + \".\")\n",
    "    print(\"  It has a population of about \" + str(population) + \".\")\n",
    "    print(\"  The \" + mountains + \" mountains are nearby.\")"
   ]
  },
  {
   "cell_type": "code",
   "execution_count": 6,
   "metadata": {},
   "outputs": [
    {
     "name": "stdout",
     "output_type": "stream",
     "text": [
      "How old are you?\n",
      "Enter 'quit' when you are finished. 3\n",
      "  Your ticket is $10.\n",
      "How old are you?\n",
      "Enter 'quit' when you are finished. 12\n",
      "  Your ticket is $10.\n",
      "How old are you?\n",
      "Enter 'quit' when you are finished. 15\n",
      "  Your ticket is $15.\n",
      "How old are you?\n",
      "Enter 'quit' when you are finished. quit\n"
     ]
    }
   ],
   "source": [
    "prompt = \"How old are you?\"\n",
    "prompt += \"\\nEnter 'quit' when you are finished. \"\n",
    "\n",
    "while True:\n",
    "    age = input(prompt)\n",
    "    if age == 'quit':\n",
    "        break\n",
    "    age = int(age)\n",
    "\n",
    "    if age < 3:\n",
    "        print(\"  You get in free!\")\n",
    "    elif age < 13:\n",
    "        print(\"  Your ticket is $10.\")\n",
    "    else:\n",
    "        print(\"  Your ticket is $15.\")"
   ]
  },
  {
   "cell_type": "code",
   "execution_count": 10,
   "metadata": {},
   "outputs": [
    {
     "name": "stdout",
     "output_type": "stream",
     "text": [
      " One of my favorite books is :Alice in the wonderland\n"
     ]
    }
   ],
   "source": [
    "def favorite_book(title):\n",
    "    \"\"\"Display a message about someone's favorite book.\"\"\"\n",
    "    print( \" One of my favorite books is :\" + title )\n",
    "\n",
    "favorite_book('Alice in the wonderland')"
   ]
  },
  {
   "cell_type": "code",
   "execution_count": 11,
   "metadata": {},
   "outputs": [
    {
     "name": "stdout",
     "output_type": "stream",
     "text": [
      "Guess a number that's between 1 and 10: 5\n",
      "Guess again! 4\n",
      "Guess again! 9\n",
      "Guess again! 7\n",
      "Guess again! 2\n",
      "Guess again! 1\n",
      "That's right!\n"
     ]
    }
   ],
   "source": [
    "import random\n",
    "t,g=random.randint(1,10),0\n",
    "g=int(input(\"Guess a number that's between 1 and 10: \"))\n",
    "while t!=g:g=int(input(\"Guess again! \"))\n",
    "print(\"That's right!\")"
   ]
  },
  {
   "cell_type": "code",
   "execution_count": 26,
   "metadata": {},
   "outputs": [
    {
     "name": "stdout",
     "output_type": "stream",
     "text": [
      "Hello! What is your name?\n",
      "Alifya\n",
      "Well, Alifya, I am thinking of a number between 1 and 30.\n",
      "Take a guess.\n",
      "15\n",
      "Your guess is too high.\n",
      "Take a guess.\n",
      "10\n",
      "Your guess is too high.\n",
      "Take a guess.\n",
      "5\n",
      "Your guess is too low.\n",
      "Nope. The number I was thinking of was 9\n"
     ]
    }
   ],
   "source": [
    " # This is a guess the number game.\n",
    "\n",
    "import random\n",
    " guessesTaken = 0\n",
    "print('Hello! What is your name?')\n",
    " myName = input()\n",
    "number = random.randint(1, 30)\n",
    " print('Well, ' + myName + ', I am thinking of a number between 1 and 30.')\n",
    "\n",
    "while guessesTaken < 3:\n",
    "\n",
    "     print('Take a guess.') # There are four spaces in front of print.\n",
    "     guess = input()\n",
    "     guess = int(guess)\n",
    "     guessesTaken = guessesTaken + 1\n",
    "     if guess < number:\n",
    "         print('Your guess is too low.') # There are eight spaces in front of print.\n",
    "     if guess > number:\n",
    "\n",
    "         print('Your guess is too high.')\n",
    "     if guess == number:\n",
    "        break\n",
    "if guess == number:\n",
    "\n",
    "    guessesTaken = str(guessesTaken)\n",
    "\n",
    "    print('Good job, ' + myName + '! You guessed my number in ' + guessesTaken + ' guesses!')\n",
    "\n",
    "if guess != number:\n",
    "\n",
    "    number = str(number)\n",
    "    print('Nope. The number I was thinking of was ' + number)"
   ]
  },
  {
   "cell_type": "code",
   "execution_count": null,
   "metadata": {},
   "outputs": [],
   "source": []
  }
 ],
 "metadata": {
  "kernelspec": {
   "display_name": "Python 3",
   "language": "python",
   "name": "python3"
  },
  "language_info": {
   "codemirror_mode": {
    "name": "ipython",
    "version": 3
   },
   "file_extension": ".py",
   "mimetype": "text/x-python",
   "name": "python",
   "nbconvert_exporter": "python",
   "pygments_lexer": "ipython3",
   "version": "3.7.4"
  }
 },
 "nbformat": 4,
 "nbformat_minor": 2
}
